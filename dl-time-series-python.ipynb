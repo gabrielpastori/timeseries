{
 "cells": [
  {
   "cell_type": "markdown",
   "id": "dc28e885-325e-43d6-a24d-09acebf72234",
   "metadata": {},
   "source": [
    "## References"
   ]
  },
  {
   "cell_type": "markdown",
   "id": "8d7f8ebe-43f9-48d3-b6d2-eebb87702b31",
   "metadata": {},
   "source": [
    "* Deep Learning with python, second edition. Chapter 10."
   ]
  },
  {
   "cell_type": "markdown",
   "id": "bbd07e07-675e-4047-bdb8-e543d8b23e34",
   "metadata": {},
   "source": [
    "## Install libraries"
   ]
  },
  {
   "cell_type": "code",
   "execution_count": 1,
   "id": "7623941e-b49e-4b9c-9a05-b06202d204bb",
   "metadata": {},
   "outputs": [],
   "source": [
    "!pip3 install -q tensorflow keras"
   ]
  },
  {
   "cell_type": "markdown",
   "id": "58330182-e029-40b8-88ca-acc21b23b732",
   "metadata": {},
   "source": [
    "## Data"
   ]
  },
  {
   "cell_type": "markdown",
   "id": "93f678b8-72ab-4d1c-98d0-b19b4fa09774",
   "metadata": {},
   "source": [
    "### Download"
   ]
  },
  {
   "cell_type": "code",
   "execution_count": 4,
   "id": "79ba3f1e-22f8-4a13-8440-140a73800c7c",
   "metadata": {},
   "outputs": [
    {
     "name": "stdout",
     "output_type": "stream",
     "text": [
      "--2023-12-03 18:46:50--  https://s3.amazonaws.com/keras-datasets/jena_climate_2009_2016.csv.zip\n",
      "Resolving s3.amazonaws.com (s3.amazonaws.com)... 54.231.232.56, 54.231.227.184, 54.231.170.240, ...\n",
      "Connecting to s3.amazonaws.com (s3.amazonaws.com)|54.231.232.56|:443... connected.\n",
      "HTTP request sent, awaiting response... 200 OK\n",
      "Length: 13565642 (13M) [application/zip]\n",
      "Saving to: ‘jena_climate_2009_2016.csv.zip.2’\n",
      "\n",
      "jena_climate_2009_2 100%[===================>]  12,94M  3,10MB/s    in 6,5s    \n",
      "\n",
      "2023-12-03 18:46:57 (2,00 MB/s) - ‘jena_climate_2009_2016.csv.zip.2’ saved [13565642/13565642]\n",
      "\n",
      "UnZip 6.00 of 20 April 2009, by Debian. Original by Info-ZIP.\n",
      "\n",
      "Usage: unzip [-Z] [-opts[modifiers]] file[.zip] [list] [-x xlist] [-d exdir]\n",
      "  Default action is to extract files in list, except those in xlist, to exdir;\n",
      "  file[.zip] may be a wildcard.  -Z => ZipInfo mode (\"unzip -Z\" for usage).\n",
      "\n",
      "  -p  extract files to pipe, no messages     -l  list files (short format)\n",
      "  -f  freshen existing files, create none    -t  test compressed archive data\n",
      "  -u  update files, create if necessary      -z  display archive comment only\n",
      "  -v  list verbosely/show version info       -T  timestamp archive to latest\n",
      "  -x  exclude files that follow (in xlist)   -d  extract files into exdir\n",
      "modifiers:\n",
      "  -n  never overwrite existing files         -q  quiet mode (-qq => quieter)\n",
      "  -o  overwrite files WITHOUT prompting      -a  auto-convert any text files\n",
      "  -j  junk paths (do not make directories)   -aa treat ALL files as text\n",
      "  -U  use escapes for all non-ASCII Unicode  -UU ignore any Unicode fields\n",
      "  -C  match filenames case-insensitively     -L  make (some) names lowercase\n",
      "  -X  restore UID/GID info                   -V  retain VMS version numbers\n",
      "  -K  keep setuid/setgid/tacky permissions   -M  pipe through \"more\" pager\n",
      "  -O CHARSET  specify a character encoding for DOS, Windows and OS/2 archives\n",
      "  -I CHARSET  specify a character encoding for UNIX and other archives\n",
      "\n",
      "See \"unzip -hh\" or unzip.txt for more help.  Examples:\n",
      "  unzip data1 -x joe   => extract all files except joe from zipfile data1.zip\n",
      "  unzip -p foo | more  => send contents of foo.zip via pipe into program more\n",
      "  unzip -fo foo ReadMe => quietly replace existing ReadMe if archive file newer\n"
     ]
    }
   ],
   "source": [
    "!wget https://s3.amazonaws.com/keras-datasets/jena_climate_2009_2016.csv.zip\n",
    "!unzip -y jena_climate_2009_2016.csv.zip"
   ]
  },
  {
   "cell_type": "markdown",
   "id": "2f6f3ed6-5b23-4c63-b425-c0bee72558b4",
   "metadata": {},
   "source": [
    "### Load"
   ]
  },
  {
   "cell_type": "markdown",
   "id": "4a69dced-ff92-4ae3-bf09-586a676289e7",
   "metadata": {},
   "source": [
    "Load data:"
   ]
  },
  {
   "cell_type": "code",
   "execution_count": 1,
   "id": "84ee15f0-fe5f-4f62-9af0-c0e430aeb206",
   "metadata": {},
   "outputs": [
    {
     "name": "stdout",
     "output_type": "stream",
     "text": [
      "['\"Date Time\"', '\"p (mbar)\"', '\"T (degC)\"', '\"Tpot (K)\"', '\"Tdew (degC)\"', '\"rh (%)\"', '\"VPmax (mbar)\"', '\"VPact (mbar)\"', '\"VPdef (mbar)\"', '\"sh (g/kg)\"', '\"H2OC (mmol/mol)\"', '\"rho (g/m**3)\"', '\"wv (m/s)\"', '\"max. wv (m/s)\"', '\"wd (deg)\"']\n",
      "420451\n"
     ]
    }
   ],
   "source": [
    "import os\n",
    "fname = os.path.join(\"jena_climate_2009_2016.csv\")\n",
    "with open(fname) as f:\n",
    "    data = f.read()\n",
    "lines = data.split(\"\\n\")\n",
    "header = lines[0].split(\",\")\n",
    "lines = lines[1:]\n",
    "print(header)\n",
    "print(len(lines))"
   ]
  },
  {
   "cell_type": "markdown",
   "id": "72912feb-d0aa-4354-a03c-f572d5cb25f0",
   "metadata": {},
   "source": [
    "In this dataset, 14 different quantities (such as temperature, pressure, humidity, and wind direction) were recorded every 10 minutes over several years. The original data goes back to 2003, but the subset of the data we’ll download is limited to 2009–2016."
   ]
  },
  {
   "cell_type": "code",
   "execution_count": 2,
   "id": "e24cc1bb-bcbf-4a81-be0e-2f921ee49b6c",
   "metadata": {},
   "outputs": [],
   "source": [
    "import numpy as np\n",
    "temperature = np.zeros((len(lines),))\n",
    "raw_data = np.zeros((len(lines), len(header) - 1))\n",
    "for i, line in enumerate(lines):\n",
    "    values = [float(x) for x in line.split(\",\")[1:]]\n",
    "    temperature[i] = values[1]\n",
    "    raw_data[i, :] = values[:]"
   ]
  },
  {
   "cell_type": "markdown",
   "id": "2c921283-9e5c-4ffd-af6a-d709321a6bec",
   "metadata": {},
   "source": [
    "`temperature` holds the observed values of the data that we want to predict and `raw_data` holds all the numeric variables, including temperature."
   ]
  },
  {
   "cell_type": "markdown",
   "id": "18f8d50d-fcff-42ab-be60-5041d3a5a2b4",
   "metadata": {},
   "source": [
    "### Plot the data"
   ]
  },
  {
   "cell_type": "markdown",
   "id": "b637858b-2b4d-4bb5-9e46-a89ddf805694",
   "metadata": {},
   "source": [
    "Plot the temperature over time:"
   ]
  },
  {
   "cell_type": "code",
   "execution_count": 3,
   "id": "4cb7010c-fef2-45e9-85db-a9fc6680a452",
   "metadata": {},
   "outputs": [
    {
     "data": {
      "text/plain": [
       "[<matplotlib.lines.Line2D at 0x7f4e5d2838b0>]"
      ]
     },
     "execution_count": 3,
     "metadata": {},
     "output_type": "execute_result"
    },
    {
     "data": {
      "image/png": "[encoded data removed]",
      "text/plain": [
       "<Figure size 640x480 with 1 Axes>"
      ]
     },
     "metadata": {},
     "output_type": "display_data"
    }
   ],
   "source": [
    "from matplotlib import pyplot as plt\n",
    "plt.plot(range(len(temperature)), temperature)"
   ]
  },
  {
   "cell_type": "markdown",
   "id": "47c1086a-191c-41eb-ac91-7f528961d373",
   "metadata": {},
   "source": [
    "First 10 days of temperature data. 24 * 6 = 144 data points per day."
   ]
  },
  {
   "cell_type": "code",
   "execution_count": 4,
   "id": "19e92b98-9e53-4939-98ae-f0ac854fcbef",
   "metadata": {},
   "outputs": [
    {
     "data": {
      "text/plain": [
       "[<matplotlib.lines.Line2D at 0x7f4e5c59bbb0>]"
      ]
     },
     "execution_count": 4,
     "metadata": {},
     "output_type": "execute_result"
    },
    {
     "data": {
      "image/png": "[encoded data removed]",
      "text/plain": [
       "<Figure size 640x480 with 1 Axes>"
      ]
     },
     "metadata": {},
     "output_type": "display_data"
    }
   ],
   "source": [
    "plt.plot(range(1440), temperature[:1440])"
   ]
  },
  {
   "cell_type": "markdown",
   "id": "51bdecd1-d6b2-4690-a293-449af6517e8d",
   "metadata": {},
   "source": [
    "## Task"
   ]
  },
  {
   "cell_type": "markdown",
   "id": "59d4ea17-1799-449b-9326-b984837709f4",
   "metadata": {},
   "source": [
    "Given data covering the previous five days and sampled once per hour, can we predict the temperature in 24 hours?"
   ]
  },
  {
   "cell_type": "markdown",
   "id": "04ca5700-9465-432c-8686-0c66fb84a738",
   "metadata": {},
   "source": [
    "This notebook contains sample code for:\n",
    "\n",
    "* Feedforward neural network\n",
    "* 1D convolution neural network\n",
    "* 3 variations of recurring neural network"
   ]
  },
  {
   "cell_type": "markdown",
   "id": "3a1f2c46-a60c-4943-a32e-3edaf375ab1b",
   "metadata": {},
   "source": [
    "Optimize the three classes of models above to give the best MAE. In addtion, use a transformer to compete in terms of MAE."
   ]
  },
  {
   "cell_type": "markdown",
   "id": "5109b55b-2e4c-45aa-b355-a20ef52de0c3",
   "metadata": {},
   "source": [
    "This [page](https://keras.io/examples/timeseries/timeseries_classification_transformer/) contains a reference of using a Transformer for time-series data."
   ]
  },
  {
   "cell_type": "markdown",
   "id": "ba0f3234-1450-484f-ae06-f2d877b2229c",
   "metadata": {},
   "source": [
    "The sample code below is a starting point. Your job is to extract the most value out of the models mentioned above. You are free to go beyond what is requested here and try out different models if you like."
   ]
  },
  {
   "cell_type": "markdown",
   "id": "54843bc0-3a9c-4ac9-828f-a0f1c095147c",
   "metadata": {},
   "source": [
    "Return a `.ipynb` containing the code (one section per model) and start the document with a summary of the models you tried and their respective MAEs in a table."
   ]
  },
  {
   "cell_type": "markdown",
   "id": "2fd0482e-34b8-4ad1-848a-ef1f50dad54a",
   "metadata": {},
   "source": [
    "**Deadline**: 05/12"
   ]
  },
  {
   "cell_type": "markdown",
   "id": "6660ec55-63b3-4382-b677-86dd5856e039",
   "metadata": {},
   "source": [
    "### Prepare the data"
   ]
  },
  {
   "cell_type": "markdown",
   "id": "2b619474-48ea-492d-a295-e925e76d9534",
   "metadata": {},
   "source": [
    "Decide the number of data points that will be assigned to training, validation and test sets."
   ]
  },
  {
   "cell_type": "code",
   "execution_count": 5,
   "id": "c6e01267-4d10-4c52-b4ef-f52abe5417d5",
   "metadata": {},
   "outputs": [
    {
     "name": "stdout",
     "output_type": "stream",
     "text": [
      "num_train_samples: 210225\n",
      "num_val_samples: 105112\n",
      "num_test_samples: 105114\n"
     ]
    }
   ],
   "source": [
    "num_train_samples = int(0.5 * len(raw_data))\n",
    "num_val_samples = int(0.25 * len(raw_data))\n",
    "num_test_samples = len(raw_data) - num_train_samples - num_val_samples\n",
    "print(\"num_train_samples:\", num_train_samples)\n",
    "print(\"num_val_samples:\", num_val_samples)\n",
    "print(\"num_test_samples:\", num_test_samples)"
   ]
  },
  {
   "cell_type": "markdown",
   "id": "65c64ef9-8f73-4c1c-ae66-382c3ce46347",
   "metadata": {},
   "source": [
    "Normalize the data."
   ]
  },
  {
   "cell_type": "code",
   "execution_count": 6,
   "id": "857a20b9-2e3d-412c-ba40-1d92bbb7c7bd",
   "metadata": {},
   "outputs": [],
   "source": [
    "mean = raw_data[:num_train_samples].mean(axis=0)\n",
    "raw_data -= mean\n",
    "std = raw_data[:num_train_samples].std(axis=0)\n",
    "raw_data /= std"
   ]
  },
  {
   "cell_type": "code",
   "execution_count": 7,
   "metadata": {},
   "outputs": [
    {
     "name": "stderr",
     "output_type": "stream",
     "text": [
      "2023-12-04 22:18:23.333518: I tensorflow/tsl/cuda/cudart_stub.cc:28] Could not find cuda drivers on your machine, GPU will not be used.\n",
      "2023-12-04 22:18:23.374468: I tensorflow/tsl/cuda/cudart_stub.cc:28] Could not find cuda drivers on your machine, GPU will not be used.\n",
      "2023-12-04 22:18:23.375281: I tensorflow/core/platform/cpu_feature_guard.cc:182] This TensorFlow binary is optimized to use available CPU instructions in performance-critical operations.\n",
      "To enable the following instructions: AVX2 FMA, in other operations, rebuild TensorFlow with the appropriate compiler flags.\n",
      "2023-12-04 22:18:24.157275: W tensorflow/compiler/tf2tensorrt/utils/py_utils.cc:38] TF-TRT Warning: Could not find TensorRT\n",
      "2023-12-04 22:18:25.191825: I tensorflow/compiler/xla/stream_executor/cuda/cuda_gpu_executor.cc:996] successful NUMA node read from SysFS had negative value (-1), but there must be at least one NUMA node, so returning NUMA node zero. See more at https://github.com/torvalds/linux/blob/v6.0/Documentation/ABI/testing/sysfs-bus-pci#L344-L355\n",
      "2023-12-04 22:18:25.192253: W tensorflow/core/common_runtime/gpu/gpu_device.cc:1956] Cannot dlopen some GPU libraries. Please make sure the missing libraries mentioned above are installed properly if you would like to use GPU. Follow the guide at https://www.tensorflow.org/install/gpu for how to download and setup the required libraries for your platform.\n",
      "Skipping registering GPU devices...\n"
     ]
    }
   ],
   "source": [
    "import numpy as np\n",
    "from tensorflow import keras\n",
    "int_sequence = np.arange(10)\n",
    "dummy_sequence = keras.utils.timeseries_dataset_from_array(\n",
    "    data = int_sequence[:-3],\n",
    "    targets = int_sequence[3:],\n",
    "    sequence_length = 3,\n",
    "    batch_size = 2\n",
    ")"
   ]
  },
  {
   "cell_type": "code",
   "execution_count": 8,
   "metadata": {},
   "outputs": [
    {
     "name": "stdout",
     "output_type": "stream",
     "text": [
      "inputs: [[0 1 2]\n",
      " [1 2 3]] targets: [3 4]\n",
      "inputs: [[2 3 4]\n",
      " [3 4 5]] targets: [5 6]\n",
      "inputs: [[4 5 6]] targets: [7]\n"
     ]
    },
    {
     "name": "stderr",
     "output_type": "stream",
     "text": [
      "2023-12-04 22:18:26.235107: I tensorflow/core/common_runtime/executor.cc:1197] [/device:CPU:0] (DEBUG INFO) Executor start aborting (this does not indicate an error and you can ignore this message): INVALID_ARGUMENT: You must feed a value for placeholder tensor 'Placeholder/_28' with dtype int32 and shape [5]\n",
      "\t [[{{node Placeholder/_28}}]]\n",
      "2023-12-04 22:18:26.236184: I tensorflow/core/common_runtime/executor.cc:1197] [/device:CPU:0] (DEBUG INFO) Executor start aborting (this does not indicate an error and you can ignore this message): INVALID_ARGUMENT: You must feed a value for placeholder tensor 'Placeholder/_8' with dtype int32 and shape [5]\n",
      "\t [[{{node Placeholder/_8}}]]\n"
     ]
    }
   ],
   "source": [
    "# print(\"dummy_sequence:\", dummy_sequence)\n",
    "\n",
    "for inputs, targets in dummy_sequence:\n",
    "    print(\"inputs:\", inputs.numpy(), \"targets:\", targets.numpy())"
   ]
  },
  {
   "cell_type": "markdown",
   "id": "a1422f9b-a270-4d5c-8322-58eb6d59ec78",
   "metadata": {},
   "source": [
    "Create `tensorflow.data.Dataset` for training, validation and test splits:"
   ]
  },
  {
   "cell_type": "code",
   "execution_count": 9,
   "id": "9d0854d8-9b85-440c-8ee1-f48f27dd75af",
   "metadata": {},
   "outputs": [],
   "source": [
    "import keras\n",
    "\n",
    "sampling_rate = 6\n",
    "sequence_length = 120\n",
    "delay = sampling_rate * (sequence_length + 24 - 1)\n",
    "batch_size = 256\n",
    "\n",
    "train_dataset = keras.utils.timeseries_dataset_from_array(\n",
    "    raw_data[:-delay],\n",
    "    targets=temperature[delay:],\n",
    "    sampling_rate=sampling_rate,\n",
    "    sequence_length=sequence_length,\n",
    "    shuffle=True,\n",
    "    batch_size=batch_size,\n",
    "    start_index=0,\n",
    "    end_index=num_train_samples\n",
    ")\n",
    "\n",
    "val_dataset = keras.utils.timeseries_dataset_from_array(\n",
    "    raw_data[:-delay],\n",
    "    targets=temperature[delay:],\n",
    "    sampling_rate=sampling_rate,\n",
    "    sequence_length=sequence_length,\n",
    "    shuffle=True,\n",
    "    batch_size=batch_size,\n",
    "    start_index=num_train_samples,\n",
    "    end_index=num_train_samples + num_val_samples\n",
    ")\n",
    "\n",
    "test_dataset = keras.utils.timeseries_dataset_from_array(\n",
    "    raw_data[:-delay],\n",
    "    targets=temperature[delay:],\n",
    "    sampling_rate=sampling_rate,\n",
    "    sequence_length=sequence_length,\n",
    "    shuffle=True,\n",
    "    batch_size=batch_size,\n",
    "    start_index=num_train_samples + num_val_samples\n",
    ")"
   ]
  },
  {
   "cell_type": "markdown",
   "id": "01b99491-598c-4e5c-bdad-09e278e6f350",
   "metadata": {},
   "source": [
    "Check the input dimensions:"
   ]
  },
  {
   "cell_type": "code",
   "execution_count": 10,
   "id": "e1b85225-c120-4f8c-96c9-8480b3981a09",
   "metadata": {},
   "outputs": [
    {
     "name": "stdout",
     "output_type": "stream",
     "text": [
      "samples shape: (256, 120, 14)\n",
      "targets shape: (256,)\n"
     ]
    },
    {
     "name": "stderr",
     "output_type": "stream",
     "text": [
      "2023-12-04 22:18:36.388617: I tensorflow/core/common_runtime/executor.cc:1197] [/device:CPU:0] (DEBUG INFO) Executor start aborting (this does not indicate an error and you can ignore this message): INVALID_ARGUMENT: You must feed a value for placeholder tensor 'Placeholder/_20' with dtype double and shape [210225]\n",
      "\t [[{{node Placeholder/_20}}]]\n",
      "2023-12-04 22:18:36.389728: I tensorflow/core/common_runtime/executor.cc:1197] [/device:CPU:0] (DEBUG INFO) Executor start aborting (this does not indicate an error and you can ignore this message): INVALID_ARGUMENT: You must feed a value for placeholder tensor 'Placeholder/_28' with dtype int32 and shape [209506]\n",
      "\t [[{{node Placeholder/_28}}]]\n"
     ]
    }
   ],
   "source": [
    "for samples, targets in train_dataset:\n",
    "    print(\"samples shape:\", samples.shape)\n",
    "    print(\"targets shape:\", targets.shape)\n",
    "    break"
   ]
  },
  {
   "cell_type": "markdown",
   "id": "89862622-b676-4f72-8eaf-0b2d9da9c07f",
   "metadata": {},
   "source": [
    "Use naive model as baseline:"
   ]
  },
  {
   "cell_type": "code",
   "execution_count": 12,
   "id": "9559159b-2ce0-46d3-bde4-45207a5472d4",
   "metadata": {},
   "outputs": [
    {
     "name": "stderr",
     "output_type": "stream",
     "text": [
      "2023-12-04 22:17:18.207129: I tensorflow/core/common_runtime/executor.cc:1197] [/device:CPU:0] (DEBUG INFO) Executor start aborting (this does not indicate an error and you can ignore this message): INVALID_ARGUMENT: You must feed a value for placeholder tensor 'Placeholder/_8' with dtype int32 and shape [104393]\n",
      "\t [[{{node Placeholder/_8}}]]\n",
      "2023-12-04 22:17:18.208087: I tensorflow/core/common_runtime/executor.cc:1197] [/device:CPU:0] (DEBUG INFO) Executor start aborting (this does not indicate an error and you can ignore this message): INVALID_ARGUMENT: You must feed a value for placeholder tensor 'Placeholder/_14' with dtype int32\n",
      "\t [[{{node Placeholder/_14}}]]\n"
     ]
    },
    {
     "name": "stdout",
     "output_type": "stream",
     "text": [
      "Validation MAE: 2.44\n"
     ]
    },
    {
     "name": "stderr",
     "output_type": "stream",
     "text": [
      "2023-12-04 22:17:23.539115: I tensorflow/core/common_runtime/executor.cc:1197] [/device:CPU:0] (DEBUG INFO) Executor start aborting (this does not indicate an error and you can ignore this message): INVALID_ARGUMENT: You must feed a value for placeholder tensor 'Placeholder/_8' with dtype int32 and shape [103537]\n",
      "\t [[{{node Placeholder/_8}}]]\n",
      "2023-12-04 22:17:23.539665: I tensorflow/core/common_runtime/executor.cc:1197] [/device:CPU:0] (DEBUG INFO) Executor start aborting (this does not indicate an error and you can ignore this message): INVALID_ARGUMENT: You must feed a value for placeholder tensor 'Placeholder/_8' with dtype int32 and shape [103537]\n",
      "\t [[{{node Placeholder/_8}}]]\n"
     ]
    },
    {
     "name": "stdout",
     "output_type": "stream",
     "text": [
      "Test MAE: 2.62\n"
     ]
    }
   ],
   "source": [
    "def evaluate_naive_method(dataset):\n",
    "    total_abs_err = 0.\n",
    "    samples_seen = 0\n",
    "    for samples, targets in dataset:\n",
    "        preds = samples[:, -1, 1] * std[1] + mean[1]\n",
    "        total_abs_err += np.sum(np.abs(preds - targets))\n",
    "        samples_seen += samples.shape[0]\n",
    "    return total_abs_err / samples_seen\n",
    "\n",
    "\n",
    "print(f\"Validation MAE: {evaluate_naive_method(val_dataset):.2f}\")\n",
    "print(f\"Test MAE: {evaluate_naive_method(test_dataset):.2f}\")"
   ]
  },
  {
   "cell_type": "markdown",
   "id": "3fd3f35d-7688-4d1e-b439-ae8022d1a3df",
   "metadata": {},
   "source": [
    "## Feedforward neural network"
   ]
  },
  {
   "cell_type": "code",
   "execution_count": 11,
   "id": "19284afa-3a1a-4321-b795-3edc5033c445",
   "metadata": {},
   "outputs": [],
   "source": [
    "from tensorflow import keras\n",
    "from tensorflow.keras import layers\n",
    "\n",
    "inputs = keras.Input(shape=(sequence_length, raw_data.shape[-1]))\n",
    "x = layers.Flatten()(inputs)\n",
    "x = layers.Dense(16, activation=\"relu\")(x)\n",
    "outputs = layers.Dense(1)(x)\n",
    "model = keras.Model(inputs, outputs)"
   ]
  },
  {
   "cell_type": "code",
   "execution_count": 12,
   "id": "6bae635d-2baf-4307-80d5-b8ec6140ea0f",
   "metadata": {},
   "outputs": [
    {
     "name": "stdout",
     "output_type": "stream",
     "text": [
      "Model: \"model\"\n",
      "_________________________________________________________________\n",
      " Layer (type)                Output Shape              Param #   \n",
      "=================================================================\n",
      " input_1 (InputLayer)        [(None, 120, 14)]         0         \n",
      "                                                                 \n",
      " flatten (Flatten)           (None, 1680)              0         \n",
      "                                                                 \n",
      " dense (Dense)               (None, 16)                26896     \n",
      "                                                                 \n",
      " dense_1 (Dense)             (None, 1)                 17        \n",
      "                                                                 \n",
      "=================================================================\n",
      "Total params: 26,913\n",
      "Trainable params: 26,913\n",
      "Non-trainable params: 0\n",
      "_________________________________________________________________\n"
     ]
    }
   ],
   "source": [
    "model.summary()"
   ]
  },
  {
   "cell_type": "code",
   "execution_count": 13,
   "id": "08730dea-e2e3-4ff5-aa3c-75bf74e5c76c",
   "metadata": {},
   "outputs": [
    {
     "name": "stdout",
     "output_type": "stream",
     "text": [
      "Epoch 1/10\n"
     ]
    },
    {
     "name": "stdout",
     "output_type": "stream",
     "text": [
      "810/819 [============================>.] - ETA: 0s - loss: 14.9861 - mae: 2.9817"
     ]
    },
    {
     "name": "stderr",
     "output_type": "stream",
     "text": [
      "2023-12-04 22:18:58.550355: I tensorflow/core/common_runtime/executor.cc:1197] [/device:CPU:0] (DEBUG INFO) Executor start aborting (this does not indicate an error and you can ignore this message): INVALID_ARGUMENT: You must feed a value for placeholder tensor 'Placeholder/_13' with dtype int32\n",
      "\t [[{{node Placeholder/_13}}]]\n",
      "2023-12-04 22:18:58.551084: I tensorflow/core/common_runtime/executor.cc:1197] [/device:CPU:0] (DEBUG INFO) Executor start aborting (this does not indicate an error and you can ignore this message): INVALID_ARGUMENT: You must feed a value for placeholder tensor 'Placeholder/_20' with dtype double and shape [105112]\n",
      "\t [[{{node Placeholder/_20}}]]\n"
     ]
    },
    {
     "name": "stdout",
     "output_type": "stream",
     "text": [
      "819/819 [==============================] - 16s 19ms/step - loss: 14.9441 - mae: 2.9779 - val_loss: 12.1743 - val_mae: 2.7379\n",
      "Epoch 2/10\n",
      "819/819 [==============================] - 19s 23ms/step - loss: 9.9638 - mae: 2.4777 - val_loss: 11.1389 - val_mae: 2.6571\n",
      "Epoch 3/10\n",
      "819/819 [==============================] - 19s 23ms/step - loss: 8.9282 - mae: 2.3453 - val_loss: 12.6924 - val_mae: 2.8265\n",
      "Epoch 4/10\n",
      "819/819 [==============================] - 19s 23ms/step - loss: 8.3346 - mae: 2.2649 - val_loss: 11.2107 - val_mae: 2.6491\n",
      "Epoch 5/10\n",
      "819/819 [==============================] - 13s 16ms/step - loss: 7.9674 - mae: 2.2176 - val_loss: 10.6625 - val_mae: 2.6004\n",
      "Epoch 6/10\n",
      "819/819 [==============================] - 11s 13ms/step - loss: 7.6884 - mae: 2.1780 - val_loss: 13.4581 - val_mae: 2.9190\n",
      "Epoch 7/10\n",
      "819/819 [==============================] - 10s 12ms/step - loss: 7.4492 - mae: 2.1441 - val_loss: 11.4434 - val_mae: 2.6751\n",
      "Epoch 8/10\n",
      "819/819 [==============================] - 10s 12ms/step - loss: 7.2280 - mae: 2.1154 - val_loss: 11.9898 - val_mae: 2.7690\n",
      "Epoch 9/10\n",
      "819/819 [==============================] - 10s 12ms/step - loss: 7.0760 - mae: 2.0929 - val_loss: 10.8924 - val_mae: 2.6149\n",
      "Epoch 10/10\n",
      "819/819 [==============================] - 10s 12ms/step - loss: 6.9174 - mae: 2.0708 - val_loss: 10.9256 - val_mae: 2.6253\n",
      "  6/405 [..............................] - ETA: 4s - loss: 12.0744 - mae: 2.7757 "
     ]
    },
    {
     "name": "stderr",
     "output_type": "stream",
     "text": [
      "2023-12-04 22:21:04.467859: I tensorflow/core/common_runtime/executor.cc:1197] [/device:CPU:0] (DEBUG INFO) Executor start aborting (this does not indicate an error and you can ignore this message): INVALID_ARGUMENT: You must feed a value for placeholder tensor 'Placeholder/_14' with dtype int32\n",
      "\t [[{{node Placeholder/_14}}]]\n",
      "2023-12-04 22:21:04.468368: I tensorflow/core/common_runtime/executor.cc:1197] [/device:CPU:0] (DEBUG INFO) Executor start aborting (this does not indicate an error and you can ignore this message): INVALID_ARGUMENT: You must feed a value for placeholder tensor 'Placeholder/_28' with dtype int32 and shape [103537]\n",
      "\t [[{{node Placeholder/_28}}]]\n"
     ]
    },
    {
     "name": "stdout",
     "output_type": "stream",
     "text": [
      "405/405 [==============================] - 3s 8ms/step - loss: 11.8104 - mae: 2.7318\n",
      "Test MAE: 2.73\n"
     ]
    }
   ],
   "source": [
    "model.compile(optimizer=\"rmsprop\", loss=\"mse\", metrics=[\"mae\"])\n",
    "\n",
    "history = model.fit(\n",
    "    train_dataset,\n",
    "    epochs=10,\n",
    "    validation_data=val_dataset,\n",
    ")\n",
    "\n",
    "print(f\"Test MAE: {model.evaluate(test_dataset)[1]:.2f}\")"
   ]
  },
  {
   "cell_type": "code",
   "execution_count": 14,
   "id": "6015a207-c80a-4a8e-a9ee-f0e97fdef9f5",
   "metadata": {},
   "outputs": [
    {
     "data": {
      "image/png": "[encoded data removed]",
      "text/plain": [
       "<Figure size 640x480 with 1 Axes>"
      ]
     },
     "metadata": {},
     "output_type": "display_data"
    }
   ],
   "source": [
    "import matplotlib.pyplot as plt\n",
    "\n",
    "loss = history.history[\"mae\"]\n",
    "val_loss = history.history[\"val_mae\"]\n",
    "epochs = range(1, len(loss) + 1)\n",
    "plt.figure()\n",
    "plt.plot(epochs, loss, \"bo\", label=\"Training MAE\")\n",
    "plt.plot(epochs, val_loss, \"b\", label=\"Validation MAE\")\n",
    "plt.title(\"Training and validation MAE\")\n",
    "plt.legend()\n",
    "plt.show()"
   ]
  },
  {
   "cell_type": "markdown",
   "metadata": {},
   "source": [
    "## FNN improvement"
   ]
  },
  {
   "cell_type": "code",
   "execution_count": 15,
   "metadata": {},
   "outputs": [
    {
     "name": "stdout",
     "output_type": "stream",
     "text": [
      "Epoch 1/50\n",
      "819/819 [==============================] - 11s 13ms/step - loss: 4.9777 - mae: 4.9777 - val_loss: 2.9738 - val_mae: 2.9738 - lr: 1.0000e-04\n",
      "Epoch 2/50\n",
      "819/819 [==============================] - 10s 12ms/step - loss: 2.6390 - mae: 2.6390 - val_loss: 2.4453 - val_mae: 2.4453 - lr: 1.1220e-04\n",
      "Epoch 3/50\n",
      "819/819 [==============================] - 10s 12ms/step - loss: 2.3407 - mae: 2.3407 - val_loss: 2.4377 - val_mae: 2.4377 - lr: 1.2589e-04\n",
      "Epoch 4/50\n",
      "819/819 [==============================] - 10s 12ms/step - loss: 2.2187 - mae: 2.2187 - val_loss: 2.4334 - val_mae: 2.4334 - lr: 1.4125e-04\n",
      "Epoch 5/50\n",
      "819/819 [==============================] - 10s 12ms/step - loss: 2.1031 - mae: 2.1031 - val_loss: 2.5196 - val_mae: 2.5196 - lr: 1.5849e-04\n",
      "Epoch 6/50\n",
      "819/819 [==============================] - 10s 12ms/step - loss: 2.0238 - mae: 2.0238 - val_loss: 2.4898 - val_mae: 2.4898 - lr: 1.7783e-04\n",
      "Epoch 7/50\n",
      "819/819 [==============================] - 10s 12ms/step - loss: 1.9568 - mae: 1.9568 - val_loss: 2.5844 - val_mae: 2.5844 - lr: 1.9953e-04\n",
      "Epoch 8/50\n",
      "819/819 [==============================] - 10s 12ms/step - loss: 1.8996 - mae: 1.8996 - val_loss: 2.5607 - val_mae: 2.5607 - lr: 2.2387e-04\n",
      "Epoch 9/50\n",
      "819/819 [==============================] - 10s 12ms/step - loss: 1.8464 - mae: 1.8464 - val_loss: 2.6651 - val_mae: 2.6651 - lr: 2.5119e-04\n"
     ]
    }
   ],
   "source": [
    "from tensorflow import keras\n",
    "from tensorflow.keras import layers\n",
    "\n",
    "inputs = keras.Input(shape=(sequence_length, raw_data.shape[-1]))\n",
    "x = layers.Flatten()(inputs)\n",
    "x = layers.Dense(32, activation=\"relu\")(x)  # Removed regularization to see if it was hindering learning\n",
    "\n",
    "x = layers.BatchNormalization()(x)\n",
    "\n",
    "x = layers.Dense(16, activation=\"relu\")(x)\n",
    "outputs = layers.Dense(1)(x)\n",
    "model_nn = keras.Model(inputs, outputs)\n",
    "\n",
    "# Compiling the model with a different optimizer and learning rate scheduler\n",
    "optimizer = keras.optimizers.Adam()\n",
    "lr_scheduler = keras.callbacks.LearningRateScheduler(lambda epoch: 1e-4 * 10**(epoch / 20))\n",
    "\n",
    "model_nn.compile(optimizer=optimizer,\n",
    "              loss='mae',\n",
    "              metrics=['mae'])\n",
    "\n",
    "# Including early stopping\n",
    "early_stopping = keras.callbacks.EarlyStopping(monitor='val_loss', patience=5, restore_best_weights=True)\n",
    "\n",
    "# Fit the model\n",
    "history_nn = model_nn.fit(train_dataset, epochs=50, validation_data=val_dataset, callbacks=[early_stopping, lr_scheduler])"
   ]
  },
  {
   "cell_type": "code",
   "execution_count": 16,
   "metadata": {},
   "outputs": [
    {
     "data": {
      "image/png": "[encoded data removed]",
      "text/plain": [
       "<Figure size 640x480 with 1 Axes>"
      ]
     },
     "metadata": {},
     "output_type": "display_data"
    },
    {
     "name": "stdout",
     "output_type": "stream",
     "text": [
      "405/405 [==============================] - 3s 8ms/step - loss: 2.5525 - mae: 2.5525\n",
      "Test MAE: 2.55\n"
     ]
    }
   ],
   "source": [
    "import matplotlib.pyplot as plt\n",
    "\n",
    "loss_nn = history_nn.history[\"mae\"]\n",
    "val_loss_nn = history_nn.history[\"val_mae\"]\n",
    "epochs = range(1, len(loss_nn) + 1)\n",
    "plt.figure()\n",
    "plt.plot(epochs, loss_nn, \"bo\", label=\"Training MAE\")\n",
    "plt.plot(epochs, val_loss_nn, \"b\", label=\"Validation MAE\")\n",
    "plt.title(\"Training and validation MAE\")\n",
    "plt.legend()\n",
    "plt.show()\n",
    "print(f\"Test MAE: {model_nn.evaluate(test_dataset)[1]:.2f}\")"
   ]
  },
  {
   "cell_type": "markdown",
   "id": "1eb3dcf7-37d1-4e16-b3a3-6f3e776dc476",
   "metadata": {},
   "source": [
    "## 1D convolution neural network"
   ]
  },
  {
   "cell_type": "code",
   "execution_count": 17,
   "id": "5b2da1b7-6cb1-4cec-a9fb-7459a731939e",
   "metadata": {},
   "outputs": [],
   "source": [
    "inputs = keras.Input(shape=(sequence_length, raw_data.shape[-1]))\n",
    "x = layers.Conv1D(8, 24, activation=\"relu\")(inputs)\n",
    "x = layers.MaxPooling1D(2)(x)\n",
    "x = layers.Conv1D(8, 12, activation=\"relu\")(x)\n",
    "x = layers.MaxPooling1D(2)(x)\n",
    "x = layers.Conv1D(8, 6, activation=\"relu\")(x)\n",
    "x = layers.GlobalAveragePooling1D()(x)\n",
    "outputs = layers.Dense(1)(x)\n",
    "model = keras.Model(inputs, outputs)"
   ]
  },
  {
   "cell_type": "code",
   "execution_count": 18,
   "id": "ad552e6c-8e0f-4a24-b479-a99c85f6df0a",
   "metadata": {},
   "outputs": [
    {
     "name": "stdout",
     "output_type": "stream",
     "text": [
      "Model: \"model_2\"\n",
      "_________________________________________________________________\n",
      " Layer (type)                Output Shape              Param #   \n",
      "=================================================================\n",
      " input_3 (InputLayer)        [(None, 120, 14)]         0         \n",
      "                                                                 \n",
      " conv1d (Conv1D)             (None, 97, 8)             2696      \n",
      "                                                                 \n",
      " max_pooling1d (MaxPooling1D  (None, 48, 8)            0         \n",
      " )                                                               \n",
      "                                                                 \n",
      " conv1d_1 (Conv1D)           (None, 37, 8)             776       \n",
      "                                                                 \n",
      " max_pooling1d_1 (MaxPooling  (None, 18, 8)            0         \n",
      " 1D)                                                             \n",
      "                                                                 \n",
      " conv1d_2 (Conv1D)           (None, 13, 8)             392       \n",
      "                                                                 \n",
      " global_average_pooling1d (G  (None, 8)                0         \n",
      " lobalAveragePooling1D)                                          \n",
      "                                                                 \n",
      " dense_5 (Dense)             (None, 1)                 9         \n",
      "                                                                 \n",
      "=================================================================\n",
      "Total params: 3,873\n",
      "Trainable params: 3,873\n",
      "Non-trainable params: 0\n",
      "_________________________________________________________________\n"
     ]
    }
   ],
   "source": [
    "model.summary()"
   ]
  },
  {
   "cell_type": "code",
   "execution_count": 19,
   "id": "1a79ff21-4b17-4849-98ac-db5399bbe7b3",
   "metadata": {},
   "outputs": [
    {
     "name": "stdout",
     "output_type": "stream",
     "text": [
      "Epoch 1/10\n"
     ]
    },
    {
     "name": "stdout",
     "output_type": "stream",
     "text": [
      "819/819 [==============================] - 19s 22ms/step - loss: 24.7531 - mae: 3.8601 - val_loss: 24.9585 - val_mae: 3.9447\n",
      "Epoch 2/10\n",
      "819/819 [==============================] - 18s 22ms/step - loss: 15.9432 - mae: 3.1643 - val_loss: 15.4225 - val_mae: 3.1280\n",
      "Epoch 3/10\n",
      "819/819 [==============================] - 18s 22ms/step - loss: 14.4399 - mae: 3.0085 - val_loss: 14.3949 - val_mae: 2.9975\n",
      "Epoch 4/10\n",
      "819/819 [==============================] - 18s 22ms/step - loss: 13.4863 - mae: 2.9050 - val_loss: 16.3130 - val_mae: 3.2015\n",
      "Epoch 5/10\n",
      "819/819 [==============================] - 18s 22ms/step - loss: 12.7711 - mae: 2.8246 - val_loss: 18.5021 - val_mae: 3.4338\n",
      "Epoch 6/10\n",
      "819/819 [==============================] - 18s 22ms/step - loss: 12.1847 - mae: 2.7567 - val_loss: 15.4755 - val_mae: 3.1232\n",
      "Epoch 7/10\n",
      "819/819 [==============================] - 18s 22ms/step - loss: 11.6988 - mae: 2.6970 - val_loss: 15.8824 - val_mae: 3.1249\n",
      "Epoch 8/10\n",
      "819/819 [==============================] - 18s 22ms/step - loss: 11.2915 - mae: 2.6488 - val_loss: 14.0979 - val_mae: 2.9667\n",
      "Epoch 9/10\n",
      "819/819 [==============================] - 18s 22ms/step - loss: 10.9125 - mae: 2.6034 - val_loss: 16.9869 - val_mae: 3.2958\n",
      "Epoch 10/10\n",
      "819/819 [==============================] - 17s 21ms/step - loss: 10.6235 - mae: 2.5687 - val_loss: 15.5897 - val_mae: 3.1451\n",
      "405/405 [==============================] - 4s 9ms/step - loss: 16.6751 - mae: 3.2767\n",
      "Test MAE: 3.28\n"
     ]
    }
   ],
   "source": [
    "model.compile(optimizer=\"rmsprop\", loss=\"mse\", metrics=[\"mae\"])\n",
    "\n",
    "history = model.fit(\n",
    "    train_dataset,\n",
    "    epochs=10,\n",
    "    validation_data=val_dataset,\n",
    ")\n",
    "\n",
    "print(f\"Test MAE: {model.evaluate(test_dataset)[1]:.2f}\")"
   ]
  },
  {
   "cell_type": "code",
   "execution_count": 20,
   "id": "c6d9c8a1-f97e-4e61-9587-ddffe31210c1",
   "metadata": {},
   "outputs": [
    {
     "data": {
      "image/png": "[encoded data removed]",
      "text/plain": [
       "<Figure size 640x480 with 1 Axes>"
      ]
     },
     "metadata": {},
     "output_type": "display_data"
    }
   ],
   "source": [
    "loss = history.history[\"mae\"]\n",
    "val_loss = history.history[\"val_mae\"]\n",
    "epochs = range(1, len(loss) + 1)\n",
    "plt.figure()\n",
    "plt.plot(epochs, loss, \"bo\", label=\"Training MAE\")\n",
    "plt.plot(epochs, val_loss, \"b\", label=\"Validation MAE\")\n",
    "plt.title(\"Training and validation MAE\")\n",
    "plt.legend()\n",
    "plt.show()"
   ]
  },
  {
   "cell_type": "markdown",
   "metadata": {},
   "source": [
    "## 1D convolution neural network improvement"
   ]
  },
  {
   "cell_type": "code",
   "execution_count": 21,
   "metadata": {},
   "outputs": [
    {
     "name": "stdout",
     "output_type": "stream",
     "text": [
      "Epoch 1/50\n",
      "241/819 [=======>......................] - ETA: 16s - loss: 5.4676 - mae: 5.4676"
     ]
    },
    {
     "name": "stdout",
     "output_type": "stream",
     "text": [
      "819/819 [==============================] - 30s 35ms/step - loss: 4.0819 - mae: 4.0819 - val_loss: 3.1047 - val_mae: 3.1047 - lr: 1.0000e-04\n",
      "Epoch 2/50\n",
      "819/819 [==============================] - 29s 35ms/step - loss: 3.1622 - mae: 3.1622 - val_loss: 2.8454 - val_mae: 2.8454 - lr: 1.1220e-04\n",
      "Epoch 3/50\n",
      "819/819 [==============================] - 29s 35ms/step - loss: 2.8973 - mae: 2.8973 - val_loss: 2.7848 - val_mae: 2.7848 - lr: 1.2589e-04\n",
      "Epoch 4/50\n",
      "819/819 [==============================] - 29s 35ms/step - loss: 2.7360 - mae: 2.7360 - val_loss: 2.7182 - val_mae: 2.7182 - lr: 1.4125e-04\n",
      "Epoch 5/50\n",
      "819/819 [==============================] - 29s 35ms/step - loss: 2.6207 - mae: 2.6207 - val_loss: 2.6397 - val_mae: 2.6397 - lr: 1.5849e-04\n",
      "Epoch 6/50\n",
      "819/819 [==============================] - 29s 35ms/step - loss: 2.5363 - mae: 2.5363 - val_loss: 2.5976 - val_mae: 2.5976 - lr: 1.7783e-04\n",
      "Epoch 7/50\n",
      "819/819 [==============================] - 29s 35ms/step - loss: 2.4695 - mae: 2.4695 - val_loss: 2.6158 - val_mae: 2.6158 - lr: 1.9953e-04\n",
      "Epoch 8/50\n",
      "819/819 [==============================] - 29s 35ms/step - loss: 2.4143 - mae: 2.4143 - val_loss: 2.8813 - val_mae: 2.8813 - lr: 2.2387e-04\n",
      "Epoch 9/50\n",
      "819/819 [==============================] - 29s 35ms/step - loss: 2.3664 - mae: 2.3664 - val_loss: 2.6397 - val_mae: 2.6397 - lr: 2.5119e-04\n",
      "Epoch 10/50\n",
      "819/819 [==============================] - 29s 35ms/step - loss: 2.3157 - mae: 2.3157 - val_loss: 2.6318 - val_mae: 2.6318 - lr: 2.8184e-04\n",
      "Epoch 11/50\n",
      "819/819 [==============================] - 29s 35ms/step - loss: 2.2884 - mae: 2.2884 - val_loss: 2.6400 - val_mae: 2.6400 - lr: 3.1623e-04\n"
     ]
    }
   ],
   "source": [
    "from tensorflow import keras\n",
    "from tensorflow.keras import layers\n",
    "\n",
    "# Increase the number of filters and adjust the kernel size\n",
    "x = layers.Conv1D(16, 24, activation=\"relu\", padding='same')(inputs)\n",
    "x = layers.MaxPooling1D(2)(x)\n",
    "x = layers.BatchNormalization()(x)  # Added batch normalization\n",
    "\n",
    "x = layers.Conv1D(32, 12, activation=\"relu\", padding='same')(x)\n",
    "x = layers.MaxPooling1D(2)(x)\n",
    "x = layers.Dropout(0.3)(x)  # Added dropout\n",
    "\n",
    "x = layers.Conv1D(64, 6, activation=\"relu\", padding='same')(x)\n",
    "x = layers.GlobalAveragePooling1D()(x)\n",
    "\n",
    "outputs = layers.Dense(1)(x)\n",
    "model_cnn = keras.Model(inputs, outputs)\n",
    "\n",
    "# Compiling the model with a different optimizer and learning rate scheduler\n",
    "optimizer = keras.optimizers.Adam()\n",
    "lr_scheduler = keras.callbacks.LearningRateScheduler(lambda epoch: 1e-4 * 10**(epoch / 20))\n",
    "\n",
    "model_cnn.compile(optimizer=optimizer,\n",
    "              loss='mae',\n",
    "              metrics=['mae'])\n",
    "\n",
    "# Including early stopping\n",
    "early_stopping = keras.callbacks.EarlyStopping(monitor='val_loss', patience=5, restore_best_weights=True)\n",
    "\n",
    "# Fit the model\n",
    "history_cnn = model_cnn.fit(train_dataset, epochs=50, validation_data=val_dataset, callbacks=[early_stopping, lr_scheduler])"
   ]
  },
  {
   "cell_type": "code",
   "execution_count": 28,
   "metadata": {},
   "outputs": [
    {
     "data": {
      "image/png": "[encoded data removed]",
      "text/plain": [
       "<Figure size 640x480 with 1 Axes>"
      ]
     },
     "metadata": {},
     "output_type": "display_data"
    },
    {
     "name": "stdout",
     "output_type": "stream",
     "text": [
      "405/405 [==============================] - 8s 19ms/step - loss: 2.8487 - mae: 2.8487\n",
      "Test MAE: 2.85\n"
     ]
    }
   ],
   "source": [
    "loss_cnn = history_cnn.history[\"mae\"]\n",
    "val_loss_cnn = history_cnn.history[\"val_mae\"]\n",
    "epochs = range(1, len(loss_cnn) + 1)\n",
    "plt.figure()\n",
    "plt.plot(epochs, loss_cnn, \"bo\", label=\"Training MAE\")\n",
    "plt.plot(epochs, val_loss_cnn, \"b\", label=\"Validation MAE\")\n",
    "plt.title(\"Training and validation MAE\")\n",
    "plt.legend()\n",
    "plt.show()\n",
    "print(f\"Test MAE: {model_cnn.evaluate(test_dataset)[1]:.2f}\")"
   ]
  },
  {
   "cell_type": "markdown",
   "id": "8a981e2c-ca9e-470d-983f-041d0696f64a",
   "metadata": {},
   "source": [
    "## RNN with LSTM cell"
   ]
  },
  {
   "cell_type": "code",
   "execution_count": 20,
   "id": "02362bdd-9990-4895-9674-b8ea7450e777",
   "metadata": {},
   "outputs": [],
   "source": [
    "import keras\n",
    "from keras import layers"
   ]
  },
  {
   "cell_type": "code",
   "execution_count": 21,
   "id": "a816bf20-1772-4e43-8ecb-2c3ac34c3525",
   "metadata": {},
   "outputs": [],
   "source": [
    "inputs = keras.Input(shape=(sequence_length, raw_data.shape[-1]))\n",
    "x = layers.LSTM(16)(inputs)\n",
    "outputs = layers.Dense(1)(x)\n",
    "model = keras.Model(inputs, outputs)"
   ]
  },
  {
   "cell_type": "code",
   "execution_count": 22,
   "id": "f0a627d3-eb5a-41e8-b03c-0a390b336d67",
   "metadata": {},
   "outputs": [
    {
     "name": "stdout",
     "output_type": "stream",
     "text": [
      "Model: \"model_2\"\n",
      "_________________________________________________________________\n",
      " Layer (type)                Output Shape              Param #   \n",
      "=================================================================\n",
      " input_3 (InputLayer)        [(None, 120, 14)]         0         \n",
      "                                                                 \n",
      " lstm (LSTM)                 (None, 16)                1984      \n",
      "                                                                 \n",
      " dense_3 (Dense)             (None, 1)                 17        \n",
      "                                                                 \n",
      "=================================================================\n",
      "Total params: 2001 (7.82 KB)\n",
      "Trainable params: 2001 (7.82 KB)\n",
      "Non-trainable params: 0 (0.00 Byte)\n",
      "_________________________________________________________________\n"
     ]
    }
   ],
   "source": [
    "model.summary()"
   ]
  },
  {
   "cell_type": "code",
   "execution_count": 23,
   "id": "97c4fbcd-6e12-4122-b537-56be1be2d774",
   "metadata": {},
   "outputs": [
    {
     "name": "stdout",
     "output_type": "stream",
     "text": [
      "Epoch 1/10\n",
      "819/819 [==============================] - 25s 30ms/step - loss: 44.4302 - mae: 4.8685 - val_loss: 13.2924 - val_mae: 2.7704\n",
      "Epoch 2/10\n",
      "819/819 [==============================] - 24s 30ms/step - loss: 11.1911 - mae: 2.5944 - val_loss: 10.7413 - val_mae: 2.4831\n",
      "Epoch 3/10\n",
      "819/819 [==============================] - 25s 30ms/step - loss: 10.0517 - mae: 2.4680 - val_loss: 9.4945 - val_mae: 2.3986\n",
      "Epoch 4/10\n",
      "819/819 [==============================] - 25s 30ms/step - loss: 9.6785 - mae: 2.4173 - val_loss: 9.7332 - val_mae: 2.4160\n",
      "Epoch 5/10\n",
      "819/819 [==============================] - 24s 30ms/step - loss: 9.3345 - mae: 2.3749 - val_loss: 9.6351 - val_mae: 2.4141\n",
      "Epoch 6/10\n",
      "819/819 [==============================] - 24s 30ms/step - loss: 9.0756 - mae: 2.3415 - val_loss: 10.6109 - val_mae: 2.4737\n",
      "Epoch 7/10\n",
      "819/819 [==============================] - 24s 30ms/step - loss: 8.8937 - mae: 2.3177 - val_loss: 10.7064 - val_mae: 2.5040\n",
      "Epoch 8/10\n",
      "819/819 [==============================] - 24s 30ms/step - loss: 8.6736 - mae: 2.2887 - val_loss: 10.7876 - val_mae: 2.5246\n",
      "Epoch 9/10\n",
      "819/819 [==============================] - 24s 30ms/step - loss: 8.5223 - mae: 2.2682 - val_loss: 10.2016 - val_mae: 2.4713\n",
      "Epoch 10/10\n",
      "819/819 [==============================] - 24s 30ms/step - loss: 8.3900 - mae: 2.2497 - val_loss: 10.8088 - val_mae: 2.5270\n",
      "405/405 [==============================] - 4s 10ms/step - loss: 11.0209 - mae: 2.5803\n",
      "Test MAE: 2.58\n"
     ]
    }
   ],
   "source": [
    "model.compile(optimizer=\"rmsprop\", loss=\"mse\", metrics=[\"mae\"])\n",
    "history = model.fit(\n",
    "    train_dataset,\n",
    "    epochs=10,\n",
    "    validation_data=val_dataset,\n",
    ")\n",
    "print(f\"Test MAE: {model.evaluate(test_dataset)[1]:.2f}\")"
   ]
  },
  {
   "cell_type": "code",
   "execution_count": 24,
   "id": "a465007c-ef95-4830-bb1d-1e8e89db4750",
   "metadata": {},
   "outputs": [
    {
     "data": {
      "image/png": "[encoded data removed]",
      "text/plain": [
       "<Figure size 640x480 with 1 Axes>"
      ]
     },
     "metadata": {},
     "output_type": "display_data"
    }
   ],
   "source": [
    "loss = history.history[\"mae\"]\n",
    "val_loss = history.history[\"val_mae\"]\n",
    "epochs = range(1, len(loss) + 1)\n",
    "plt.figure()\n",
    "plt.plot(epochs, loss, \"bo\", label=\"Training MAE\")\n",
    "plt.plot(epochs, val_loss, \"b\", label=\"Validation MAE\")\n",
    "plt.title(\"Training and validation MAE\")\n",
    "plt.legend()\n",
    "plt.show()"
   ]
  },
  {
   "cell_type": "markdown",
   "id": "82c9c914-c4eb-4cb6-b9dd-8b0be2828eb8",
   "metadata": {},
   "source": [
    "## RNN with LSTM cell and recurrent dropout"
   ]
  },
  {
   "cell_type": "code",
   "execution_count": 25,
   "id": "65d52fff-2254-4bc1-9d78-eae4f8474b2e",
   "metadata": {},
   "outputs": [],
   "source": [
    "inputs = keras.Input(shape=(sequence_length, raw_data.shape[-1]))\n",
    "x = layers.LSTM(32, recurrent_dropout=0.25)(inputs)\n",
    "x = layers.Dropout(0.5)(x)\n",
    "outputs = layers.Dense(1)(x)\n",
    "model = keras.Model(inputs, outputs)"
   ]
  },
  {
   "cell_type": "code",
   "execution_count": 26,
   "id": "f2947658-9fdb-4438-aff1-3d9e17f72b84",
   "metadata": {},
   "outputs": [
    {
     "name": "stdout",
     "output_type": "stream",
     "text": [
      "Model: \"model_3\"\n",
      "_________________________________________________________________\n",
      " Layer (type)                Output Shape              Param #   \n",
      "=================================================================\n",
      " input_4 (InputLayer)        [(None, 120, 14)]         0         \n",
      "                                                                 \n",
      " lstm_1 (LSTM)               (None, 32)                6016      \n",
      "                                                                 \n",
      " dropout (Dropout)           (None, 32)                0         \n",
      "                                                                 \n",
      " dense_4 (Dense)             (None, 1)                 33        \n",
      "                                                                 \n",
      "=================================================================\n",
      "Total params: 6049 (23.63 KB)\n",
      "Trainable params: 6049 (23.63 KB)\n",
      "Non-trainable params: 0 (0.00 Byte)\n",
      "_________________________________________________________________\n"
     ]
    }
   ],
   "source": [
    "model.summary()"
   ]
  },
  {
   "cell_type": "code",
   "execution_count": 27,
   "id": "58164d81-2fe2-4dc9-99be-be29487a6a4f",
   "metadata": {},
   "outputs": [
    {
     "name": "stdout",
     "output_type": "stream",
     "text": [
      "Epoch 1/50\n",
      "819/819 [==============================] - 68s 82ms/step - loss: 27.4771 - mae: 3.8642 - val_loss: 9.7172 - val_mae: 2.4380\n",
      "Epoch 2/50\n",
      "819/819 [==============================] - 67s 81ms/step - loss: 14.9045 - mae: 3.0006 - val_loss: 9.3520 - val_mae: 2.3765\n",
      "Epoch 3/50\n",
      "819/819 [==============================] - 67s 82ms/step - loss: 14.1340 - mae: 2.9132 - val_loss: 9.4616 - val_mae: 2.3848\n",
      "Epoch 4/50\n",
      "819/819 [==============================] - 66s 81ms/step - loss: 13.4593 - mae: 2.8447 - val_loss: 9.5603 - val_mae: 2.4069\n",
      "Epoch 5/50\n",
      "819/819 [==============================] - 67s 82ms/step - loss: 13.0053 - mae: 2.7883 - val_loss: 9.5383 - val_mae: 2.4052\n",
      "Epoch 6/50\n",
      "819/819 [==============================] - 66s 81ms/step - loss: 12.6874 - mae: 2.7527 - val_loss: 9.8109 - val_mae: 2.4397\n",
      "Epoch 7/50\n",
      "819/819 [==============================] - 66s 81ms/step - loss: 12.3014 - mae: 2.7161 - val_loss: 10.1385 - val_mae: 2.4824\n",
      "Epoch 8/50\n",
      "819/819 [==============================] - 69s 84ms/step - loss: 11.9593 - mae: 2.6739 - val_loss: 9.9319 - val_mae: 2.4461\n",
      "Epoch 9/50\n",
      "819/819 [==============================] - 66s 80ms/step - loss: 11.6919 - mae: 2.6449 - val_loss: 9.9525 - val_mae: 2.4508\n",
      "Epoch 10/50\n",
      "819/819 [==============================] - 66s 81ms/step - loss: 11.5587 - mae: 2.6317 - val_loss: 10.0366 - val_mae: 2.4608\n",
      "Epoch 11/50\n",
      "819/819 [==============================] - 65s 79ms/step - loss: 11.3530 - mae: 2.6002 - val_loss: 10.1554 - val_mae: 2.4737\n",
      "Epoch 12/50\n",
      "819/819 [==============================] - 65s 80ms/step - loss: 11.1081 - mae: 2.5783 - val_loss: 9.8767 - val_mae: 2.4404\n",
      "Epoch 13/50\n",
      "819/819 [==============================] - 65s 79ms/step - loss: 10.9516 - mae: 2.5590 - val_loss: 9.8532 - val_mae: 2.4417\n",
      "Epoch 14/50\n",
      "819/819 [==============================] - 66s 80ms/step - loss: 10.7814 - mae: 2.5407 - val_loss: 9.7219 - val_mae: 2.4156\n",
      "Epoch 15/50\n",
      "819/819 [==============================] - 65s 80ms/step - loss: 10.6753 - mae: 2.5245 - val_loss: 10.2605 - val_mae: 2.4903\n",
      "Epoch 16/50\n",
      "819/819 [==============================] - 65s 79ms/step - loss: 10.5418 - mae: 2.5122 - val_loss: 10.0015 - val_mae: 2.4579\n",
      "Epoch 17/50\n",
      "819/819 [==============================] - 66s 80ms/step - loss: 10.3999 - mae: 2.4950 - val_loss: 10.1977 - val_mae: 2.4819\n",
      "Epoch 18/50\n",
      "819/819 [==============================] - 66s 80ms/step - loss: 10.3301 - mae: 2.4852 - val_loss: 9.9093 - val_mae: 2.4472\n",
      "Epoch 19/50\n",
      "819/819 [==============================] - 66s 80ms/step - loss: 10.2347 - mae: 2.4728 - val_loss: 10.1582 - val_mae: 2.4712\n",
      "Epoch 20/50\n",
      "819/819 [==============================] - 65s 80ms/step - loss: 10.1286 - mae: 2.4628 - val_loss: 10.2888 - val_mae: 2.4926\n",
      "Epoch 21/50\n",
      "819/819 [==============================] - 65s 80ms/step - loss: 10.0944 - mae: 2.4573 - val_loss: 10.2190 - val_mae: 2.4913\n",
      "Epoch 22/50\n",
      "819/819 [==============================] - 65s 79ms/step - loss: 10.0244 - mae: 2.4470 - val_loss: 10.5698 - val_mae: 2.5278\n",
      "Epoch 23/50\n",
      "819/819 [==============================] - 65s 79ms/step - loss: 9.8575 - mae: 2.4265 - val_loss: 10.9291 - val_mae: 2.5710\n",
      "Epoch 24/50\n",
      "819/819 [==============================] - 65s 79ms/step - loss: 9.8368 - mae: 2.4228 - val_loss: 10.2688 - val_mae: 2.4876\n",
      "Epoch 25/50\n",
      "819/819 [==============================] - 65s 79ms/step - loss: 9.7916 - mae: 2.4198 - val_loss: 10.6294 - val_mae: 2.5242\n",
      "Epoch 26/50\n",
      "819/819 [==============================] - 65s 79ms/step - loss: 9.7051 - mae: 2.4077 - val_loss: 10.6493 - val_mae: 2.5420\n",
      "Epoch 27/50\n",
      "819/819 [==============================] - 65s 79ms/step - loss: 9.6657 - mae: 2.4017 - val_loss: 10.4408 - val_mae: 2.5078\n",
      "Epoch 28/50\n",
      "819/819 [==============================] - 65s 79ms/step - loss: 9.6368 - mae: 2.3947 - val_loss: 10.4549 - val_mae: 2.5148\n",
      "Epoch 29/50\n",
      "819/819 [==============================] - 65s 79ms/step - loss: 9.5824 - mae: 2.3929 - val_loss: 10.4873 - val_mae: 2.5252\n",
      "Epoch 30/50\n",
      "819/819 [==============================] - 65s 79ms/step - loss: 9.5159 - mae: 2.3825 - val_loss: 10.5275 - val_mae: 2.5231\n",
      "Epoch 31/50\n",
      "819/819 [==============================] - 65s 80ms/step - loss: 9.4543 - mae: 2.3751 - val_loss: 10.4093 - val_mae: 2.5097\n",
      "Epoch 32/50\n",
      "819/819 [==============================] - 65s 79ms/step - loss: 9.4565 - mae: 2.3762 - val_loss: 10.9315 - val_mae: 2.5808\n",
      "Epoch 33/50\n",
      "819/819 [==============================] - 66s 80ms/step - loss: 9.4807 - mae: 2.3795 - val_loss: 10.5893 - val_mae: 2.5350\n",
      "Epoch 34/50\n",
      "819/819 [==============================] - 65s 79ms/step - loss: 9.3317 - mae: 2.3618 - val_loss: 10.8518 - val_mae: 2.5611\n",
      "Epoch 35/50\n",
      "819/819 [==============================] - 66s 80ms/step - loss: 9.3177 - mae: 2.3584 - val_loss: 10.8922 - val_mae: 2.5690\n",
      "Epoch 36/50\n",
      "819/819 [==============================] - 66s 81ms/step - loss: 9.2495 - mae: 2.3508 - val_loss: 11.3998 - val_mae: 2.6356\n",
      "Epoch 37/50\n",
      "819/819 [==============================] - 67s 82ms/step - loss: 9.2275 - mae: 2.3475 - val_loss: 10.9889 - val_mae: 2.5772\n",
      "Epoch 38/50\n",
      "819/819 [==============================] - 68s 83ms/step - loss: 9.2398 - mae: 2.3507 - val_loss: 10.8421 - val_mae: 2.5628\n",
      "Epoch 39/50\n",
      "819/819 [==============================] - 68s 82ms/step - loss: 9.2257 - mae: 2.3460 - val_loss: 11.3711 - val_mae: 2.6207\n",
      "Epoch 40/50\n",
      "819/819 [==============================] - 68s 83ms/step - loss: 9.1069 - mae: 2.3286 - val_loss: 10.7861 - val_mae: 2.5514\n",
      "Epoch 41/50\n",
      "819/819 [==============================] - 67s 82ms/step - loss: 9.1840 - mae: 2.3415 - val_loss: 10.8196 - val_mae: 2.5481\n",
      "Epoch 42/50\n",
      "819/819 [==============================] - 67s 82ms/step - loss: 9.0586 - mae: 2.3265 - val_loss: 11.0668 - val_mae: 2.5857\n",
      "Epoch 43/50\n",
      "819/819 [==============================] - 67s 81ms/step - loss: 9.0306 - mae: 2.3243 - val_loss: 11.1406 - val_mae: 2.5911\n",
      "Epoch 44/50\n",
      "819/819 [==============================] - 67s 81ms/step - loss: 9.0371 - mae: 2.3218 - val_loss: 11.1679 - val_mae: 2.6029\n",
      "Epoch 45/50\n",
      "819/819 [==============================] - 68s 83ms/step - loss: 9.0385 - mae: 2.3246 - val_loss: 11.6549 - val_mae: 2.6533\n",
      "Epoch 46/50\n",
      "819/819 [==============================] - 66s 81ms/step - loss: 9.0032 - mae: 2.3191 - val_loss: 11.1375 - val_mae: 2.5895\n",
      "Epoch 47/50\n",
      "819/819 [==============================] - 66s 81ms/step - loss: 8.8787 - mae: 2.3069 - val_loss: 12.2928 - val_mae: 2.7348\n",
      "Epoch 48/50\n",
      "819/819 [==============================] - 66s 80ms/step - loss: 8.9252 - mae: 2.3079 - val_loss: 11.4288 - val_mae: 2.6263\n",
      "Epoch 49/50\n",
      "819/819 [==============================] - 65s 80ms/step - loss: 8.8817 - mae: 2.3026 - val_loss: 11.2191 - val_mae: 2.5996\n",
      "Epoch 50/50\n",
      "819/819 [==============================] - 65s 79ms/step - loss: 8.8372 - mae: 2.2989 - val_loss: 11.7387 - val_mae: 2.6628\n",
      "405/405 [==============================] - 6s 16ms/step - loss: 12.8554 - mae: 2.8316\n",
      "Test MAE: 2.83\n"
     ]
    }
   ],
   "source": [
    "inputs = keras.Input(shape=(sequence_length, raw_data.shape[-1]))\n",
    "x = layers.LSTM(32, recurrent_dropout=0.25)(inputs)\n",
    "x = layers.Dropout(0.5)(x)\n",
    "outputs = layers.Dense(1)(x)\n",
    "model = keras.Model(inputs, outputs)\n",
    "\n",
    "model.compile(optimizer=\"rmsprop\", loss=\"mse\", metrics=[\"mae\"])\n",
    "history = model.fit(\n",
    "    train_dataset,\n",
    "    epochs=50,\n",
    "    validation_data=val_dataset,\n",
    ")\n",
    "print(f\"Test MAE: {model.evaluate(test_dataset)[1]:.2f}\")"
   ]
  },
  {
   "cell_type": "code",
   "execution_count": 28,
   "id": "3a81b7a6-e117-4a98-88e2-206dac90c2e8",
   "metadata": {},
   "outputs": [
    {
     "data": {
      "image/png": "[encoded data removed]",
      "text/plain": [
       "<Figure size 640x480 with 1 Axes>"
      ]
     },
     "metadata": {},
     "output_type": "display_data"
    }
   ],
   "source": [
    "loss = history.history[\"mae\"]\n",
    "val_loss = history.history[\"val_mae\"]\n",
    "epochs = range(1, len(loss) + 1)\n",
    "plt.figure()\n",
    "plt.plot(epochs, loss, \"bo\", label=\"Training MAE\")\n",
    "plt.plot(epochs, val_loss, \"b\", label=\"Validation MAE\")\n",
    "plt.title(\"Training and validation MAE\")\n",
    "plt.legend()\n",
    "plt.show()"
   ]
  },
  {
   "cell_type": "markdown",
   "id": "82c8de33-0a2c-42c1-8f70-cc8c9763bdbc",
   "metadata": {},
   "source": [
    "## Stacked RNN layers"
   ]
  },
  {
   "cell_type": "code",
   "execution_count": 29,
   "id": "8365803a-8f16-4316-954d-8f16c51781ce",
   "metadata": {},
   "outputs": [
    {
     "name": "stdout",
     "output_type": "stream",
     "text": [
      "Epoch 1/50\n",
      "819/819 [==============================] - 142s 172ms/step - loss: 26.3065 - mae: 3.7720 - val_loss: 10.4601 - val_mae: 2.5255\n",
      "Epoch 2/50\n",
      "819/819 [==============================] - 142s 173ms/step - loss: 13.6321 - mae: 2.8568 - val_loss: 9.8368 - val_mae: 2.4439\n",
      "Epoch 3/50\n",
      "819/819 [==============================] - 142s 174ms/step - loss: 12.4769 - mae: 2.7306 - val_loss: 10.0937 - val_mae: 2.4758\n",
      "Epoch 4/50\n",
      "819/819 [==============================] - 142s 173ms/step - loss: 11.5680 - mae: 2.6314 - val_loss: 10.2498 - val_mae: 2.4925\n",
      "Epoch 5/50\n",
      "819/819 [==============================] - 142s 174ms/step - loss: 10.8748 - mae: 2.5471 - val_loss: 10.1394 - val_mae: 2.5081\n",
      "Epoch 6/50\n",
      "819/819 [==============================] - 142s 173ms/step - loss: 10.2750 - mae: 2.4737 - val_loss: 10.0864 - val_mae: 2.4920\n",
      "Epoch 7/50\n",
      "819/819 [==============================] - 141s 172ms/step - loss: 9.7846 - mae: 2.4076 - val_loss: 10.6001 - val_mae: 2.5501\n",
      "Epoch 8/50\n",
      "819/819 [==============================] - 139s 170ms/step - loss: 9.3922 - mae: 2.3601 - val_loss: 10.6510 - val_mae: 2.5692\n",
      "Epoch 9/50\n",
      "819/819 [==============================] - 141s 172ms/step - loss: 8.9404 - mae: 2.2999 - val_loss: 10.9773 - val_mae: 2.5932\n",
      "Epoch 10/50\n",
      "819/819 [==============================] - 140s 170ms/step - loss: 8.6574 - mae: 2.2655 - val_loss: 11.3586 - val_mae: 2.6371\n",
      "Epoch 11/50\n",
      "819/819 [==============================] - 140s 170ms/step - loss: 8.4142 - mae: 2.2319 - val_loss: 11.1094 - val_mae: 2.6124\n",
      "Epoch 12/50\n",
      "819/819 [==============================] - 142s 173ms/step - loss: 8.1694 - mae: 2.2004 - val_loss: 11.5219 - val_mae: 2.6586\n",
      "Epoch 13/50\n",
      "819/819 [==============================] - 140s 171ms/step - loss: 7.9609 - mae: 2.1709 - val_loss: 11.8258 - val_mae: 2.6806\n",
      "Epoch 14/50\n",
      "819/819 [==============================] - 140s 171ms/step - loss: 7.8007 - mae: 2.1473 - val_loss: 13.0895 - val_mae: 2.8206\n",
      "Epoch 15/50\n",
      "819/819 [==============================] - 141s 173ms/step - loss: 7.5901 - mae: 2.1214 - val_loss: 12.1801 - val_mae: 2.7294\n",
      "Epoch 16/50\n",
      "819/819 [==============================] - 141s 172ms/step - loss: 7.4490 - mae: 2.1023 - val_loss: 12.1479 - val_mae: 2.7228\n",
      "Epoch 17/50\n",
      "819/819 [==============================] - 139s 169ms/step - loss: 7.3272 - mae: 2.0835 - val_loss: 12.7319 - val_mae: 2.7754\n",
      "Epoch 18/50\n",
      "819/819 [==============================] - 140s 171ms/step - loss: 7.2533 - mae: 2.0731 - val_loss: 12.1029 - val_mae: 2.7123\n",
      "Epoch 19/50\n",
      "819/819 [==============================] - 141s 172ms/step - loss: 7.1240 - mae: 2.0552 - val_loss: 12.8268 - val_mae: 2.7811\n",
      "Epoch 20/50\n",
      "819/819 [==============================] - 141s 172ms/step - loss: 7.0556 - mae: 2.0477 - val_loss: 12.6850 - val_mae: 2.7784\n",
      "Epoch 21/50\n",
      "819/819 [==============================] - 140s 170ms/step - loss: 6.9584 - mae: 2.0315 - val_loss: 12.5669 - val_mae: 2.7749\n",
      "Epoch 22/50\n",
      "819/819 [==============================] - 140s 171ms/step - loss: 6.8556 - mae: 2.0179 - val_loss: 12.9356 - val_mae: 2.8067\n",
      "Epoch 23/50\n",
      "819/819 [==============================] - 140s 171ms/step - loss: 6.8056 - mae: 2.0102 - val_loss: 12.7644 - val_mae: 2.7842\n",
      "Epoch 24/50\n",
      "819/819 [==============================] - 141s 173ms/step - loss: 6.7773 - mae: 2.0065 - val_loss: 13.1535 - val_mae: 2.8188\n",
      "Epoch 25/50\n",
      "819/819 [==============================] - 141s 172ms/step - loss: 6.6992 - mae: 1.9936 - val_loss: 13.2938 - val_mae: 2.8355\n",
      "Epoch 26/50\n",
      "819/819 [==============================] - 141s 172ms/step - loss: 6.6554 - mae: 1.9873 - val_loss: 13.2655 - val_mae: 2.8414\n",
      "Epoch 27/50\n",
      "819/819 [==============================] - 141s 172ms/step - loss: 6.6186 - mae: 1.9837 - val_loss: 13.1195 - val_mae: 2.8130\n",
      "Epoch 28/50\n",
      "819/819 [==============================] - 141s 173ms/step - loss: 6.5635 - mae: 1.9718 - val_loss: 13.3040 - val_mae: 2.8359\n",
      "Epoch 29/50\n",
      "819/819 [==============================] - 141s 172ms/step - loss: 6.5572 - mae: 1.9697 - val_loss: 13.6681 - val_mae: 2.8652\n",
      "Epoch 30/50\n",
      "819/819 [==============================] - 141s 172ms/step - loss: 6.4822 - mae: 1.9591 - val_loss: 14.4361 - val_mae: 2.9505\n",
      "Epoch 31/50\n",
      "819/819 [==============================] - 142s 173ms/step - loss: 6.4020 - mae: 1.9474 - val_loss: 13.4338 - val_mae: 2.8571\n",
      "Epoch 32/50\n",
      "819/819 [==============================] - 141s 172ms/step - loss: 6.3847 - mae: 1.9452 - val_loss: 13.3704 - val_mae: 2.8499\n",
      "Epoch 33/50\n",
      "819/819 [==============================] - 140s 171ms/step - loss: 6.3396 - mae: 1.9391 - val_loss: 13.6615 - val_mae: 2.8778\n",
      "Epoch 34/50\n",
      "819/819 [==============================] - 142s 173ms/step - loss: 6.3528 - mae: 1.9408 - val_loss: 13.3966 - val_mae: 2.8438\n",
      "Epoch 35/50\n",
      "819/819 [==============================] - 141s 172ms/step - loss: 6.3412 - mae: 1.9352 - val_loss: 13.4609 - val_mae: 2.8472\n",
      "Epoch 36/50\n",
      "819/819 [==============================] - 142s 173ms/step - loss: 6.2659 - mae: 1.9280 - val_loss: 13.7229 - val_mae: 2.8792\n",
      "Epoch 37/50\n",
      "819/819 [==============================] - 143s 174ms/step - loss: 6.2014 - mae: 1.9170 - val_loss: 13.6815 - val_mae: 2.8606\n",
      "Epoch 38/50\n",
      "819/819 [==============================] - 143s 174ms/step - loss: 6.2579 - mae: 1.9225 - val_loss: 13.1754 - val_mae: 2.8218\n",
      "Epoch 39/50\n",
      "819/819 [==============================] - 141s 172ms/step - loss: 6.1861 - mae: 1.9135 - val_loss: 13.0011 - val_mae: 2.8012\n",
      "Epoch 40/50\n",
      "819/819 [==============================] - 143s 174ms/step - loss: 6.1892 - mae: 1.9137 - val_loss: 13.2382 - val_mae: 2.8257\n",
      "Epoch 41/50\n",
      "819/819 [==============================] - 142s 174ms/step - loss: 6.1916 - mae: 1.9120 - val_loss: 13.5207 - val_mae: 2.8681\n",
      "Epoch 42/50\n",
      "819/819 [==============================] - 142s 173ms/step - loss: 6.1344 - mae: 1.9015 - val_loss: 13.3125 - val_mae: 2.8368\n",
      "Epoch 43/50\n",
      "819/819 [==============================] - 141s 172ms/step - loss: 6.1292 - mae: 1.9029 - val_loss: 13.6502 - val_mae: 2.8716\n",
      "Epoch 44/50\n",
      "819/819 [==============================] - 141s 172ms/step - loss: 6.0728 - mae: 1.8940 - val_loss: 13.3789 - val_mae: 2.8401\n",
      "Epoch 45/50\n",
      "819/819 [==============================] - 141s 172ms/step - loss: 6.0962 - mae: 1.8965 - val_loss: 13.2277 - val_mae: 2.8279\n",
      "Epoch 46/50\n",
      "819/819 [==============================] - 142s 173ms/step - loss: 6.0400 - mae: 1.8890 - val_loss: 13.5379 - val_mae: 2.8645\n",
      "Epoch 47/50\n",
      "819/819 [==============================] - 142s 173ms/step - loss: 6.0469 - mae: 1.8866 - val_loss: 13.8006 - val_mae: 2.8986\n",
      "Epoch 48/50\n",
      "819/819 [==============================] - 141s 172ms/step - loss: 6.0015 - mae: 1.8814 - val_loss: 13.1317 - val_mae: 2.8231\n",
      "Epoch 49/50\n",
      "819/819 [==============================] - 143s 174ms/step - loss: 5.9943 - mae: 1.8801 - val_loss: 13.4202 - val_mae: 2.8557\n",
      "Epoch 50/50\n",
      "819/819 [==============================] - 142s 174ms/step - loss: 5.9636 - mae: 1.8747 - val_loss: 13.2854 - val_mae: 2.8374\n",
      "405/405 [==============================] - 13s 31ms/step - loss: 16.1800 - mae: 3.1329\n",
      "Test MAE: 3.13\n"
     ]
    }
   ],
   "source": [
    "inputs = keras.Input(shape=(sequence_length, raw_data.shape[-1]))\n",
    "x = layers.LSTM(32, recurrent_dropout=0.5, return_sequences=True)(inputs)\n",
    "x = layers.LSTM(32, recurrent_dropout=0.5)(x)\n",
    "x = layers.Dropout(0.5)(x)\n",
    "outputs = layers.Dense(1)(x)\n",
    "model = keras.Model(inputs, outputs)\n",
    "\n",
    "model.compile(optimizer=\"rmsprop\", loss=\"mse\", metrics=[\"mae\"])\n",
    "\n",
    "history = model.fit(\n",
    "    train_dataset,\n",
    "    epochs=50,\n",
    "    validation_data=val_dataset,\n",
    ")\n",
    "print(f\"Test MAE: {model.evaluate(test_dataset)[1]:.2f}\")"
   ]
  },
  {
   "cell_type": "markdown",
   "metadata": {},
   "source": [
    "## Feedforward Neural Network\n"
   ]
  },
  {
   "cell_type": "markdown",
   "metadata": {},
   "source": [
    "Já se era esperado, pela descrição do problema, que a rede neural feedforward não fosse performar bem. A rede neural feedforward é uma rede neural que não possui memória. Por isso, ela, em geral, não é adequada para problemas relacionados a series temporais. Entretanto, executamos alguns testes para ao menos atingir o MAE encontrado no modelo baseline (conjunto de testes: 2.62). O melhor resultado foi encontrado executando as seguintes mudanças:\n",
    "- Aumento da Capacidade do modelo: A primeira camada densa foi ampliada de 16 para 32 neurônios.\n",
    "- Adição da normalização em lote\n",
    "- Adição de uma outra camada densa com 16 neurônios\n",
    "- Mudança de otimizador para RMSprop\n",
    "- Adição de um Agendador de Taxa de Aprendizado\n",
    "- Implementação de Early Stopping\n",
    "- Aumento no número de épocas de treinamento\n",
    "<br><br>\n",
    "Executando essas mudanças, o modelo conseguiu atingir um MAE de 2.58 no conjunto de testes, o que é um resultado ligeiramete melhor que o modelo baseline."
   ]
  },
  {
   "cell_type": "markdown",
   "metadata": {},
   "source": [
    "#### Best-Model FFNN Summary"
   ]
  },
  {
   "cell_type": "code",
   "execution_count": null,
   "metadata": {},
   "outputs": [
    {
     "name": "stdout",
     "output_type": "stream",
     "text": [
      "Model: \"model_34\"\n",
      "_________________________________________________________________\n",
      " Layer (type)                Output Shape              Param #   \n",
      "=================================================================\n",
      " input_32 (InputLayer)       [(None, 120, 14)]         0         \n",
      "                                                                 \n",
      " flatten_29 (Flatten)        (None, 1680)              0         \n",
      "                                                                 \n",
      " dense_87 (Dense)            (None, 32)                53792     \n",
      "                                                                 \n",
      " batch_normalization_20 (Bat  (None, 32)               128       \n",
      " chNormalization)                                                \n",
      "                                                                 \n",
      " dense_88 (Dense)            (None, 16)                528       \n",
      "                                                                 \n",
      " dense_89 (Dense)            (None, 1)                 17        \n",
      "                                                                 \n",
      "=================================================================\n",
      "Total params: 54,465\n",
      "Trainable params: 54,401\n",
      "Non-trainable params: 64\n",
      "_________________________________________________________________\n"
     ]
    }
   ],
   "source": [
    "model_nn.summary()"
   ]
  },
  {
   "cell_type": "code",
   "execution_count": null,
   "metadata": {},
   "outputs": [
    {
     "data": {
      "image/png": "[encoded data removed]",
      "text/plain": [
       "<Figure size 640x480 with 1 Axes>"
      ]
     },
     "metadata": {},
     "output_type": "display_data"
    },
    {
     "name": "stdout",
     "output_type": "stream",
     "text": [
      "405/405 [==============================] - 6s 13ms/step - loss: 2.6211 - mae: 2.6211\n",
      "Test MAE: 2.62\n",
      "Validation MAE: 2.69\n"
     ]
    }
   ],
   "source": [
    "import matplotlib.pyplot as plt\n",
    "\n",
    "loss = history.history[\"mae\"]\n",
    "val_loss = history.history[\"val_mae\"]\n",
    "epochs = range(1, len(loss) + 1)\n",
    "plt.figure()\n",
    "plt.plot(epochs, loss, \"bo\", label=\"Training MAE\")\n",
    "plt.plot(epochs, val_loss, \"b\", label=\"Validation MAE\")\n",
    "plt.title(\"Training and validation MAE\")\n",
    "plt.legend()\n",
    "plt.show()\n",
    "print(f\"Test MAE: {model_nn.evaluate(test_dataset)[1]:.2f}\")\n",
    "print(f\"Validation MAE: {history.history['val_mae'][-1]:.2f}\")"
   ]
  },
  {
   "cell_type": "markdown",
   "metadata": {},
   "source": [
    "## Convolutional Neural Network\n"
   ]
  },
  {
   "cell_type": "markdown",
   "metadata": {},
   "source": [
    "Assim como na classe de modelos da rede neural feedforward, a CNN é uma rede neural que não possui memória. Por isso, ela, em geral, também não é adequada para problemas relacionados a series temporais. Entretanto, executamos alguns testes para ao menos atingir o MAE encontrado no modelo baseline (conjunto de testes: 2.62). O melhor resultado foi encontrado executando as seguintes mudanças:\n",
    "- Aumento na Quantidade de Filtros.\n",
    "- Mudança no Tamanho dos Filtros: O tamanho dos filtros permaneceu o mesmo, mas ao utilizar padding='same', garante-se que o tamanho da saída de cada camada convolucional seja igual ao da entrada, permitindo que a rede mantenha a resolução espacial ao longo de suas camadas.\n",
    "- Normalização em Lote: Foi adicionada uma camada de Batch Normalization após a primeira camada convolucional.\n",
    "- Dropout: A inclusão de Dropout após a segunda camada convolucional visa reduzir o sobreajuste.\n",
    "- Aumento na Complexidade das Camadas Convolucionais: As camadas convolucionais foram expandidas para ter uma hierarquia de 16, 32 e 64 filtros, respectivamente. Isso é uma tentativa de permitir que a rede aprenda hierarquias mais complexas de características.\n",
    "- Alteração do Otimizador: O modelo original usava o otimizador RMSprop, enquanto o atualizado está utilizando o Adam.\n",
    "- Agendador de Taxa de Aprendizado.\n",
    "- Parada Antecipada (Early Stopping).\n",
    "- Aumento no Número de Épocas.\n",
    "<br><br>\n",
    "Executando essas mudanças, o modelo conseguiu atingir um MAE de 2.85 no conjunto de testes, o que é uma melhora em relação ao modelo original."
   ]
  },
  {
   "cell_type": "markdown",
   "metadata": {},
   "source": [
    "#### Best-Model CNN Summary"
   ]
  },
  {
   "cell_type": "code",
   "execution_count": null,
   "metadata": {},
   "outputs": [
    {
     "name": "stdout",
     "output_type": "stream",
     "text": [
      "Model: \"model_3\"\n",
      "_________________________________________________________________\n",
      " Layer (type)                Output Shape              Param #   \n",
      "=================================================================\n",
      " input_3 (InputLayer)        [(None, 120, 14)]         0         \n",
      "                                                                 \n",
      " conv1d_3 (Conv1D)           (None, 120, 16)           5392      \n",
      "                                                                 \n",
      " max_pooling1d_2 (MaxPooling  (None, 60, 16)           0         \n",
      " 1D)                                                             \n",
      "                                                                 \n",
      " batch_normalization_1 (Batc  (None, 60, 16)           64        \n",
      " hNormalization)                                                 \n",
      "                                                                 \n",
      " conv1d_4 (Conv1D)           (None, 60, 32)            6176      \n",
      "                                                                 \n",
      " max_pooling1d_3 (MaxPooling  (None, 30, 32)           0         \n",
      " 1D)                                                             \n",
      "                                                                 \n",
      " dropout (Dropout)           (None, 30, 32)            0         \n",
      "                                                                 \n",
      " conv1d_5 (Conv1D)           (None, 30, 64)            12352     \n",
      "                                                                 \n",
      " global_average_pooling1d_1   (None, 64)               0         \n",
      " (GlobalAveragePooling1D)                                        \n",
      "                                                                 \n",
      " dense_6 (Dense)             (None, 1)                 65        \n",
      "                                                                 \n",
      "=================================================================\n",
      "Total params: 24,049\n",
      "Trainable params: 24,017\n",
      "Non-trainable params: 32\n",
      "_________________________________________________________________\n"
     ]
    }
   ],
   "source": [
    "model_cnn.summary()"
   ]
  },
  {
   "cell_type": "code",
   "execution_count": null,
   "metadata": {},
   "outputs": [
    {
     "data": {
      "image/png": "[encoded data removed]",
      "text/plain": [
       "<Figure size 640x480 with 1 Axes>"
      ]
     },
     "metadata": {},
     "output_type": "display_data"
    },
    {
     "name": "stdout",
     "output_type": "stream",
     "text": [
      "405/405 [==============================] - 9s 21ms/step - loss: 2.8487 - mae: 2.8487\n",
      "Test MAE: 2.85\n"
     ]
    }
   ],
   "source": [
    "loss_cnn = history_cnn.history[\"mae\"]\n",
    "val_loss_cnn = history_cnn.history[\"val_mae\"]\n",
    "epochs = range(1, len(loss_cnn) + 1)\n",
    "plt.figure()\n",
    "plt.plot(epochs, loss_cnn, \"bo\", label=\"Training MAE\")\n",
    "plt.plot(epochs, val_loss_cnn, \"b\", label=\"Validation MAE\")\n",
    "plt.title(\"Training and validation MAE\")\n",
    "plt.legend()\n",
    "plt.show()\n",
    "print(f\"Test MAE: {model_cnn.evaluate(test_dataset)[1]:.2f}\")"
   ]
  }
 ],
 "metadata": {
  "kernelspec": {
   "display_name": "Python 3 (ipykernel)",
   "language": "python",
   "name": "python3"
  },
  "language_info": {
   "codemirror_mode": {
    "name": "ipython",
    "version": 3
   },
   "file_extension": ".py",
   "mimetype": "text/x-python",
   "name": "python",
   "nbconvert_exporter": "python",
   "pygments_lexer": "ipython3",
   "version": "3.10.12"
  }
 },
 "nbformat": 4,
 "nbformat_minor": 5
}
